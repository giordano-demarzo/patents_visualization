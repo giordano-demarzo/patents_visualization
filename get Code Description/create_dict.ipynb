import os

# Get the current working directory
current_directory = os.getcwd()

# List all files and directories in the current directory
files_and_dirs = os.listdir(current_directory)

# Filter for files ending with .pdf 
pdf_filenames = [f for f in files_and_dirs if f.endswith('.pdf') and os.path.isfile(os.path.join(current_directory, f))]

import re

def remove_before_second_smallest_substring(text):
    # Step 1: Find all "number/00" patterns (standalone and not part of a range)
    number_pattern = r'\b(\d{1,3}/00)\b'  # Matches IPC codes like 1/00, 11/00, etc.
    
    # Find all matches
    matches = re.findall(number_pattern, text)

    if not matches:
        return text  # Return original text if no matches found

    # Step 2: Identify the smallest IPC code
    # Convert the matches to tuples of (numeric value, original code)
    numeric_codes = [(int(code.split('/')[0]), code) for code in matches]

    # Find the smallest code
    smallest_code = min(numeric_codes, key=lambda x: x[0])[1]

    # Step 3: Find the second occurrence of the smallest code
    occurrence_indices = [m.start() for m in re.finditer(smallest_code, text)]
    
    if len(occurrence_indices) < 2:
        return text  # Return original text if there's less than 2 occurrences

    # Get the index of the second occurrence
    second_occurrence_index = occurrence_indices[1]
    
    # Remove everything before the second occurrence
    result_text = text[second_occurrence_index:]
    
    return result_text

def extract_ipc_codes(input_string,file_name):
    # Remove excessive dots and clean the string
    cleaned_string = re.sub(r'\.{5,}', ' ', input_string)
    
    # Regex pattern to match IPC codes followed by their descriptions
    pattern = r'(\d{1,3}/\d{2})\s*([A-Za-z][\s\S]*?)(?=\d{1,3}/\d{2}|$)'
    
    # Find all matches
    matches = re.findall(pattern, cleaned_string)
    
    # Create a dictionary of IPC codes and their descriptions
    ipc_dict = {str(file_name)+str(code): description.strip() for code, description in matches}
    
    return ipc_dict

from PyPDF2 import PdfReader
ipc_dict = {}

for file in pdf_filenames[:]:
    pdf_path = os.path.join(current_directory, file)
    # Read the PDF file
    reader = PdfReader(pdf_path)

    # Extract text from all pages
    pdf_text = ''
    for page in reader.pages:
        pdf_text += page.extract_text()
    # Removes \n and \xa0 from rw strings
    text = pdf_text.replace("\n", "").replace("\xa0", "")
    # Finds all the codes number/00 and finds the second occurrence of the smallest number then remove everything before
    text = remove_before_second_smallest_substring(text)
    file_name = file.replace(".pdf","")
    # Create the dict with codes
    ipc_dict_ = extract_ipc_codes(text,file_name.upper())
    # Remove keys not of the form number/00
    keys_to_delete = [key for key in ipc_dict_.keys() if key.split('/')[1] != '00']
    for key in keys_to_delete:
        ipc_dict_.pop(key)
    updated_dict = {key.split('/')[0]: value for key, value in ipc_dict_.items() if key.endswith('/00')}
    ipc_dict.update(updated_dict)


import pickle as pkl
# Save the dict
with open('ipc_dict_A.pkl', 'wb') as f:
    pkl.dump(ipc_dict, f)
