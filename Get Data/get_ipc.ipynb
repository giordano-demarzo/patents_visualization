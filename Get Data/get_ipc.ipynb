{
 "cells": [
  {
   "cell_type": "code",
   "execution_count": 1,
   "id": "9750055b-c80a-44f8-a19a-0bfc1c81ff50",
   "metadata": {},
   "outputs": [],
   "source": [
    "from epo.tipdata.epab import EPABClient\n",
    "import os\n",
    "import numpy as np\n",
    "import pandas as pd"
   ]
  },
  {
   "cell_type": "code",
   "execution_count": 2,
   "id": "b06a6dea-075a-4adb-af59-5180482112f7",
   "metadata": {},
   "outputs": [],
   "source": [
    "# turn env='PROD' for all the data\n",
    "epab = EPABClient(env = 'TEST')\n"
   ]
  },
  {
   "cell_type": "code",
   "execution_count": null,
   "id": "e77d47cc-ffff-458d-8607-4ace9fb85b21",
   "metadata": {},
   "outputs": [],
   "source": [
    "# Select all the data that have abstracts written in the English Language\n",
    "q = epab.query_abstract_language(\"en\")\n",
    "# Start a for loop from a chosen year to the present \n",
    "for year in range(2006,2023):\n",
    "    data = []\n",
    "    #new_folder_path = str(year)\n",
    "    p = epab.query_publication_date(str(year)+\"%\")\n",
    "    s = q & p\n",
    "    df = s.get_results(\"title.en,publication,ipc,abstract.text,claims\",output_type=\"dataframe\")\n",
    "    for _, row in df.iterrows():\n",
    "        pub_number = row['publication.number']\n",
    "        title = row['title.en']\n",
    "        ipc = row['ipc']\n",
    "    #check if claims and abstracts are non empty elements\n",
    "        if(row['claims'] and row['abstract.text']):\n",
    "    # Define the filenames for abstract and claims\n",
    "            # Add year, pub_number, and title to a list\n",
    "            data.append({\n",
    "                'year': year,\n",
    "                'publication_number': pub_number,\n",
    "                'title': title,\n",
    "                'ipc': list([ipc[idx]['symbol'] for idx,elements in enumerate(ipc)])\n",
    "            })\n",
    "    df_ = pd.DataFrame(data)\n",
    "    csv_file_in_zip = str(year)+'_publnumber_title_ipc.csv'\n",
    "\n",
    "# Save DataFrame as a zipped CSV file\n",
    "    df_.to_csv(str(year)+'_publnumber_title_ipc.zip', index=False, compression=dict(method='zip', archive_name=csv_file_in_zip))"
   ]
  }
 ],
 "metadata": {
  "kernelspec": {
   "display_name": "Python 3 (ipykernel)",
   "language": "python",
   "name": "python3"
  },
  "language_info": {
   "codemirror_mode": {
    "name": "ipython",
    "version": 3
   },
   "file_extension": ".py",
   "mimetype": "text/x-python",
   "name": "python",
   "nbconvert_exporter": "python",
   "pygments_lexer": "ipython3",
   "version": "3.9.7"
  }
 },
 "nbformat": 4,
 "nbformat_minor": 5
}
